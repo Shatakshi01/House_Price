{
 "cells": [
  {
   "cell_type": "markdown",
   "metadata": {
    "colab_type": "text",
    "id": "view-in-github"
   },
   "source": [
    "<a href=\"https://colab.research.google.com/github/Shatakshi01/House_Price/blob/main/HousePricePred.ipynb\" target=\"_parent\"><img src=\"https://colab.research.google.com/assets/colab-badge.svg\" alt=\"Open In Colab\"/></a>"
   ]
  },
  {
   "cell_type": "code",
   "execution_count": 1,
   "metadata": {
    "id": "YewumuMhbKVP"
   },
   "outputs": [],
   "source": [
    "import pandas as pd\n",
    "import numpy as np \n",
    "import matplotlib.pyplot as plt"
   ]
  },
  {
   "cell_type": "code",
   "execution_count": 2,
   "metadata": {
    "colab": {
     "base_uri": "https://localhost:8080/"
    },
    "id": "3HB0gOlYpHp5",
    "outputId": "a42e09ae-44e2-4b88-c909-80e724d1b184"
   },
   "outputs": [
    {
     "ename": "ModuleNotFoundError",
     "evalue": "No module named 'google'",
     "output_type": "error",
     "traceback": [
      "\u001b[1;31m---------------------------------------------------------------------------\u001b[0m",
      "\u001b[1;31mModuleNotFoundError\u001b[0m                       Traceback (most recent call last)",
      "\u001b[1;32m~\\AppData\\Local\\Temp/ipykernel_9648/1408506528.py\u001b[0m in \u001b[0;36m<module>\u001b[1;34m\u001b[0m\n\u001b[1;32m----> 1\u001b[1;33m \u001b[1;32mfrom\u001b[0m \u001b[0mgoogle\u001b[0m\u001b[1;33m.\u001b[0m\u001b[0mcolab\u001b[0m \u001b[1;32mimport\u001b[0m \u001b[0mdrive\u001b[0m\u001b[1;33m\u001b[0m\u001b[1;33m\u001b[0m\u001b[0m\n\u001b[0m\u001b[0;32m      2\u001b[0m \u001b[0mdrive\u001b[0m\u001b[1;33m.\u001b[0m\u001b[0mmount\u001b[0m\u001b[1;33m(\u001b[0m\u001b[1;34m'/content/drive'\u001b[0m\u001b[1;33m)\u001b[0m\u001b[1;33m\u001b[0m\u001b[1;33m\u001b[0m\u001b[0m\n",
      "\u001b[1;31mModuleNotFoundError\u001b[0m: No module named 'google'"
     ]
    }
   ],
   "source": []
  },
  {
   "cell_type": "code",
   "execution_count": null,
   "metadata": {
    "id": "uDkp8W4Slfux"
   },
   "outputs": [],
   "source": [
    "Banglore_df = pd.read_csv(\"./dataset/Bangalore.csv\")\n",
    "Chennai_df = pd.read_csv(\"./dataset/Bangalore.csv\"Chennai.csv\")\n",
    "Delhi_df = pd.read_csv(\"./dataset/Bangalore.csv\"Delhi.csv\")\n",
    "Hyderabad_df = pd.read_csv(\"./dataset/Bangalore.csv\"Hyderabad.csv\")\n",
    "Kolkata_df = pd.read_csv(\"/content/drive/MyDrive/House Price Prediction/dataset/Kolkata.csv\")\n",
    "Mumbai_df = pd.read_csv(\"/content/drive/MyDrive/House Price Prediction/dataset/Mumbai.csv\")\n",
    "\n",
    "dataset = [Banglore_df , Chennai_df , Delhi_df , Hyderabad_df , Kolkata_df , Mumbai_df]"
   ]
  },
  {
   "cell_type": "code",
   "execution_count": null,
   "metadata": {
    "colab": {
     "base_uri": "https://localhost:8080/"
    },
    "id": "LZV73ukcmupS",
    "outputId": "6724af50-284b-4f75-e422-39b785fa3634"
   },
   "outputs": [],
   "source": [
    "print(\"NO. OF ROWS IN EACH CSV FILE \")\n",
    "print(\"Banglore_df--->\" , len(Banglore_df))\n",
    "print(\"Chennai_df--->\" , len(Chennai_df))\n",
    "print(\"Delhi_df--->\" , len(Delhi_df))\n",
    "print(\"Hyderabad_df--->\" , len(Hyderabad_df))\n",
    "print(\"Kolkata_df--->\" , len(Kolkata_df))\n",
    "print(\"Mumbai_df--->\" , len(Mumbai_df))\n",
    "print(\"Total-->\" , len(Banglore_df) + \n",
    "      len(Chennai_df) + len(Delhi_df) +\n",
    "      len(Hyderabad_df) + len(Kolkata_df)+\n",
    "      len(Mumbai_df))"
   ]
  },
  {
   "cell_type": "code",
   "execution_count": null,
   "metadata": {
    "colab": {
     "base_uri": "https://localhost:8080/"
    },
    "id": "AyLMrHnynE-A",
    "outputId": "83df6e83-0f2a-4b3a-d393-5e2b77d34534"
   },
   "outputs": [],
   "source": [
    "Banglore_df.columns"
   ]
  },
  {
   "cell_type": "code",
   "execution_count": null,
   "metadata": {
    "colab": {
     "base_uri": "https://localhost:8080/"
    },
    "id": "CcYFh1j8nqIc",
    "outputId": "e1a06763-bfd3-4a04-c825-ee66f09ed95a"
   },
   "outputs": [],
   "source": [
    "Delhi_df.info()\n"
   ]
  },
  {
   "cell_type": "code",
   "execution_count": null,
   "metadata": {
    "colab": {
     "base_uri": "https://localhost:8080/"
    },
    "id": "lZejCsmMn6oJ",
    "outputId": "a80c606a-0126-4f9a-f636-5e0e82b0582a"
   },
   "outputs": [],
   "source": [
    "print(Mumbai_df.columns)"
   ]
  },
  {
   "cell_type": "code",
   "execution_count": null,
   "metadata": {
    "colab": {
     "base_uri": "https://localhost:8080/",
     "height": 330
    },
    "id": "T9SlbAVToSha",
    "outputId": "1c53b82e-5696-409d-b491-bcbb4332716d"
   },
   "outputs": [],
   "source": [
    "Delhi_df.head(5)\n"
   ]
  },
  {
   "cell_type": "code",
   "execution_count": null,
   "metadata": {
    "colab": {
     "base_uri": "https://localhost:8080/"
    },
    "id": "bqoVfiKCpBQR",
    "outputId": "ad175e6b-adf1-4197-a01a-561585143c1b"
   },
   "outputs": [],
   "source": [
    "col_lis = Mumbai_df.columns.drop(['Price', 'Area', 'Location'])\n",
    "col_lis"
   ]
  },
  {
   "cell_type": "code",
   "execution_count": null,
   "metadata": {
    "colab": {
     "base_uri": "https://localhost:8080/"
    },
    "id": "p1uJ_OYq-tZv",
    "outputId": "60455b17-b4b8-442b-99aa-bd5bd8b5c7e6"
   },
   "outputs": [],
   "source": [
    "print(\"before=>\" , Delhi_df.shape[0])\n",
    "Delhi_df.replace(9,np.nan,inplace=True)\n",
    "Delhi_df.dropna(axis=0,how=\"any\",inplace=True)\n",
    "print(\"after=>\" , Delhi_df.shape[0])"
   ]
  },
  {
   "cell_type": "code",
   "execution_count": null,
   "metadata": {
    "colab": {
     "base_uri": "https://localhost:8080/"
    },
    "id": "EU8LH2JWr7YN",
    "outputId": "30b5dd27-5e72-4543-ee84-3a35a475c5ad"
   },
   "outputs": [],
   "source": [
    "for i in col_lis:\n",
    "  print(i , \" --> \" , Delhi_df[i].unique())\n",
    "  \n",
    "  "
   ]
  },
  {
   "cell_type": "code",
   "execution_count": null,
   "metadata": {
    "colab": {
     "base_uri": "https://localhost:8080/"
    },
    "id": "GV2FskaJr_gx",
    "outputId": "f4a74436-d12a-4ddd-cee9-85efc5e6bb05"
   },
   "outputs": [],
   "source": [
    "import seaborn as sns\n",
    "from sklearn.model_selection import train_test_split\n",
    "from sklearn.linear_model import LinearRegression\n",
    "from sklearn.tree import DecisionTreeRegressor\n",
    "from sklearn.ensemble import RandomForestRegressor\n",
    "from sklearn.metrics import explained_variance_score\n",
    "from sklearn.metrics import confusion_matrix\n",
    "from sklearn.metrics import mean_absolute_error,  r2_score, mean_squared_error\n",
    "print(\"imported.....\")"
   ]
  },
  {
   "cell_type": "code",
   "execution_count": null,
   "metadata": {
    "id": "RT0ioAUHrZAY"
   },
   "outputs": [],
   "source": [
    "Delhi_df.rename(columns={\"No. of Bedrooms\":\"Bedrooms\", \"24X7Security\":\"Security\",\"Children'splayarea\":\"Playarea\" , \"LiftAvailable\":\"Lift\" ,\"VaastuCompliant\":\"Vaastu\", }, inplace=True)"
   ]
  },
  {
   "cell_type": "code",
   "execution_count": null,
   "metadata": {
    "colab": {
     "base_uri": "https://localhost:8080/"
    },
    "id": "7xaXutkap_oh",
    "outputId": "24656e9b-38a6-454f-b8ed-4372fee8b914"
   },
   "outputs": [],
   "source": [
    "Delhi_df.columns"
   ]
  },
  {
   "cell_type": "code",
   "execution_count": null,
   "metadata": {
    "colab": {
     "base_uri": "https://localhost:8080/"
    },
    "id": "WMkSY-AQqIaq",
    "outputId": "a79585b6-e66f-4f08-9eb0-da89c72037b8"
   },
   "outputs": [],
   "source": [
    "Delhi_df[\"Price\"] = round(Delhi_df[\"Price\"]/100000 , 2)\n",
    "Delhi_df[\"Price\"]"
   ]
  },
  {
   "cell_type": "code",
   "execution_count": null,
   "metadata": {
    "colab": {
     "base_uri": "https://localhost:8080/"
    },
    "id": "KY62fH04qdzc",
    "outputId": "f551d09e-4033-4c24-a08c-4fb956c09357"
   },
   "outputs": [],
   "source": [
    "Delhi_df.rename(columns={\"Price\": \"Price inn lkhs\" } , inplace =True)\n",
    "Delhi_df.columns"
   ]
  },
  {
   "cell_type": "code",
   "execution_count": null,
   "metadata": {
    "colab": {
     "base_uri": "https://localhost:8080/",
     "height": 623
    },
    "id": "l4Fxfe9vqwy_",
    "outputId": "50dc19cc-e6f8-4ef1-9b60-343c50f6880c"
   },
   "outputs": [],
   "source": [
    "y1=Delhi_df[ \"Price inn lkhs\"]\n",
    "fig1 = plt.subplots(figsize=(10,10))\n",
    "fig1 = sns.regplot(x=\"Area\",y=y1,data=Delhi_df,fit_reg=False , color='red')\n",
    "fig1"
   ]
  },
  {
   "cell_type": "code",
   "execution_count": null,
   "metadata": {
    "colab": {
     "base_uri": "https://localhost:8080/",
     "height": 1000
    },
    "id": "cDCLvDVNq7C7",
    "outputId": "97e3784c-f1fa-4807-bf6d-2de20d569111"
   },
   "outputs": [],
   "source": [
    "fig3 = plt.subplots(figsize=(20,20))\n",
    "fig3 = sns.heatmap(Delhi_df.corr(), cmap='Reds' , annot = True , linewidths=.5)\n",
    "fig3"
   ]
  },
  {
   "cell_type": "code",
   "execution_count": null,
   "metadata": {
    "id": "xIlbzzUyrs5T"
   },
   "outputs": [],
   "source": [
    "delhi_location = Delhi_df[\"Location\"]\n",
    "Delhi_df.drop([\"Location\"] , axis=1,inplace=True )"
   ]
  },
  {
   "cell_type": "code",
   "execution_count": null,
   "metadata": {
    "colab": {
     "base_uri": "https://localhost:8080/",
     "height": 386
    },
    "id": "0oqfXsQPs831",
    "outputId": "1b3e9edc-7d60-4722-d6ab-550baf195530"
   },
   "outputs": [],
   "source": [
    "Delhi_df.drop([\"MaintenanceStaff\", \"Wifi\",\"SwimmingPool\",\"LandscapedGardens\",\"ShoppingMall\",\"SportsFacility\",\"ATM\",\"ClubHouse\",\"StaffQuarter\",\"Cafeteria\",\"MultipurposeRoom\",\"WashingMachine\",\"BED\",\"Microwave\",\"DiningTable\",\"Wardrobe\",\"Sofa\",\"Refrigerator\",\"GolfCourse\",\"TV\"],axis=1,inplace=True)\n",
    "Delhi_df.replace(9,np.nan,inplace=True)\n",
    "Delhi_df.head(9) \n"
   ]
  },
  {
   "cell_type": "code",
   "execution_count": null,
   "metadata": {
    "colab": {
     "base_uri": "https://localhost:8080/"
    },
    "id": "QQFHocZTxaO6",
    "outputId": "59e3153f-baa1-4171-e100-faa328ea9e26"
   },
   "outputs": [],
   "source": [
    "Delhi_df[\"Price inn lkhs\"].head(5)"
   ]
  },
  {
   "cell_type": "code",
   "execution_count": null,
   "metadata": {
    "colab": {
     "base_uri": "https://localhost:8080/",
     "height": 708
    },
    "id": "WDnvBoOYcLUK",
    "outputId": "a2f679ff-3a07-44c3-db76-938e148210ef"
   },
   "outputs": [],
   "source": [
    "fig = plt.subplots(figsize=(20,10))\n",
    "fig = sns.heatmap(Delhi_df.corr(), cmap='Reds' , annot = True , linewidths=.5)\n",
    "fig"
   ]
  },
  {
   "cell_type": "code",
   "execution_count": null,
   "metadata": {
    "colab": {
     "base_uri": "https://localhost:8080/"
    },
    "id": "7hUTrlaBHKwV",
    "outputId": "0adff8d6-9d90-48db-88ed-6e7a7a839254"
   },
   "outputs": [],
   "source": [
    "Delhi_df.columns"
   ]
  },
  {
   "cell_type": "code",
   "execution_count": null,
   "metadata": {
    "id": "MARgeb22KX1g"
   },
   "outputs": [],
   "source": [
    "f_col = ['Area' , 'Bedrooms', 'PowerBackup', 'Gasconnection' , 'Playarea' , 'AC' ]\n",
    "\n",
    "x = Delhi_df[f_col]\n",
    "#x=x.values\n",
    "y=Delhi_df['Price inn lkhs']\n",
    "#y = y.values \n"
   ]
  },
  {
   "cell_type": "code",
   "execution_count": null,
   "metadata": {
    "id": "LZ2veq2Vz5kI"
   },
   "outputs": [],
   "source": [
    "x_train,x_test,y_train,y_test=train_test_split(x,y,test_size=0.2,random_state=0)\n",
    "lgr=LinearRegression(fit_intercept=True)\n",
    "model_1=lgr.fit(x_train,y_train)\n",
    "prediction=lgr.predict(x_test)\n"
   ]
  },
  {
   "cell_type": "code",
   "execution_count": null,
   "metadata": {
    "colab": {
     "base_uri": "https://localhost:8080/"
    },
    "id": "JlH2jJts0auY",
    "outputId": "8af541f7-d08d-48a0-d788-8cd5b0f409b0"
   },
   "outputs": [],
   "source": [
    "print(round(r2_score(y_test,prediction)*100, 2) , \"%\")"
   ]
  },
  {
   "cell_type": "code",
   "execution_count": null,
   "metadata": {
    "colab": {
     "base_uri": "https://localhost:8080/",
     "height": 614
    },
    "id": "oNJ8jOO90hQy",
    "outputId": "8cd0cc8f-282f-4234-fa79-b8408e625492"
   },
   "outputs": [],
   "source": [
    "fig4 = plt.subplots(figsize=(20,10))\n",
    "fig4 = sns.heatmap(x.corr(), cmap='Reds' , annot = True , linewidths=.5)\n",
    "fig4"
   ]
  },
  {
   "cell_type": "code",
   "execution_count": null,
   "metadata": {
    "colab": {
     "base_uri": "https://localhost:8080/"
    },
    "id": "XN1sbFwJ34NA",
    "outputId": "e4bdbce1-e292-4bf4-f272-f52ebb1795e2"
   },
   "outputs": [],
   "source": [
    "Delhi_df[\"Gasconnection\"].unique()"
   ]
  },
  {
   "cell_type": "code",
   "execution_count": null,
   "metadata": {
    "colab": {
     "base_uri": "https://localhost:8080/"
    },
    "id": "fKnqDSM14Z-2",
    "outputId": "e9682afd-9f10-4af5-bf8d-17731e85045c"
   },
   "outputs": [],
   "source": [
    "sorted(Delhi_df[\"Bedrooms\"].unique())"
   ]
  },
  {
   "cell_type": "code",
   "execution_count": null,
   "metadata": {
    "colab": {
     "base_uri": "https://localhost:8080/"
    },
    "id": "YNvEWbft7G0y",
    "outputId": "99255f3e-771b-44ea-d310-63b0d76c79d8"
   },
   "outputs": [],
   "source": [
    "Delhi_df[\"AC\"].unique()"
   ]
  },
  {
   "cell_type": "code",
   "execution_count": null,
   "metadata": {
    "colab": {
     "base_uri": "https://localhost:8080/"
    },
    "id": "qcXACWWbAoO1",
    "outputId": "2d5aee38-63f4-4f23-dff4-cc77c76df132"
   },
   "outputs": [],
   "source": [
    "print(x_test.shape , x_train.shape , y_train.shape , y_test.shape)"
   ]
  },
  {
   "cell_type": "code",
   "execution_count": null,
   "metadata": {
    "colab": {
     "base_uri": "https://localhost:8080/",
     "height": 610
    },
    "id": "2sk0-7xdOoXz",
    "outputId": "3133ab70-21c3-4012-ec20-a1b7c58d7279"
   },
   "outputs": [],
   "source": [
    "fig = plt.subplots(figsize=(20,10))\n",
    "fig = plt.plot(range(len(y_test)), y_test, linestyle='--', marker='o' , color='blue' , alpha = 0.5  , label = \"actual value\")\n",
    "fig = plt.plot(range(len(prediction)), prediction, linestyle='--', marker='o' , color='red' , alpha =0.5 , label = \"Predicted value\")\n",
    "plt.legend()\n",
    "fig"
   ]
  },
  {
   "cell_type": "code",
   "execution_count": null,
   "metadata": {
    "id": "KvvAa63VPhEi"
   },
   "outputs": [],
   "source": [
    "rf_regressor = RandomForestRegressor(n_estimators=28,random_state=0)\n",
    "rf_regressor.fit(x_train,y_train)\n",
    "rf_regressor.score(x_test,y_test)\n",
    "rf_pred =rf_regressor.predict(x_test)\n",
    "rf_score=rf_regressor.score(x_test,y_test)\n",
    "expl_rf = explained_variance_score(rf_pred,y_test)\n",
    "\n",
    "print(\"Random Forest Regression Model Score is \",round(rf_regressor.score(x_test,y_test)*100))"
   ]
  }
 ],
 "metadata": {
  "colab": {
   "authorship_tag": "ABX9TyO78072xroGN+9HA9t6UzFm",
   "collapsed_sections": [],
   "include_colab_link": true,
   "mount_file_id": "1WXaTs-FGtlEsbrNAJriukl0T-uh_JyJB",
   "name": "HousePricePred.ipynb",
   "provenance": []
  },
  "kernelspec": {
   "display_name": "Python 3 (ipykernel)",
   "language": "python",
   "name": "python3"
  },
  "language_info": {
   "codemirror_mode": {
    "name": "ipython",
    "version": 3
   },
   "file_extension": ".py",
   "mimetype": "text/x-python",
   "name": "python",
   "nbconvert_exporter": "python",
   "pygments_lexer": "ipython3",
   "version": "3.9.6"
  }
 },
 "nbformat": 4,
 "nbformat_minor": 1
}
